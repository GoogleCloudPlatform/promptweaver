{
 "cells": [
  {
   "cell_type": "code",
   "execution_count": 1,
   "metadata": {},
   "outputs": [],
   "source": [
    "from promptweaver.core.prompt_template import PromptConfig\n",
    "from promptweaver.clients.gemini.gemini_client import GeminiClient\n",
    "import pprint\n",
    "import json"
   ]
  },
  {
   "cell_type": "code",
   "execution_count": 7,
   "metadata": {},
   "outputs": [
    {
     "name": "stdout",
     "output_type": "stream",
     "text": [
      "\n",
      "PromptConfig(\n",
      "  name='Cooking Designer',\n",
      "  description='A prompt that helps creating a recipe based in a prompt.',\n",
      "  model_name='gemini-1.5-pro-001',\n",
      "  generation_config={'temperature': 0.3, 'response_mime_type': 'application/json', 'response_schema': {'type': 'object', 'properties': {'image_content_description': {'type': 'string'}, 'recipe_name': {'type': 'string'}, 'difficulty_level': {'type': 'string', 'enum': ['easy', 'moderate', 'professional']}, 'ingredient_list': {'type': 'array', 'items': {'type': 'object', 'properties': {'unit': {'type': 'string', 'enum': ['count', 'cup', 'tablespoon', 'teaspoon', 'kg', 'g', 'mg']}, 'amount': {'type': 'number'}, 'name': {'type': 'string'}}, 'required': ['name']}}, 'preparation_instructions': {'type': 'array', 'items': {'type': 'string'}}}, 'required': ['recipe_name', 'difficulty_level', 'ingredient_list', 'preparation_instructions']}},\n",
      "  safety_settings=[],\n",
      "  system_instruction='You are a professional chef responsible for elaborating recipes for a brazilian restaurant.\n",
      "Based on the user's prompt, you'll need to create a new cooking recipe in english.',\n",
      "  variables={'cousine': {'sample': 'brazilian'}, 'user_prompt': {'sample': 'Check this image with all the ingredients that I have at home.'}, 'prioritize_weigth': {'default': False}, 'image_uri': {'sample': 'data/images/feijoada-ingredients.jpeg'}},\n",
      "  provided_variables={'prioritize_weigth': False, 'cousine': 'brazilian', 'user_prompt': 'Check this image with all the ingredients that I have at home.', 'image_uri': 'data/images/feijoada-ingredients.jpeg'},\n",
      ")\n",
      "\n"
     ]
    }
   ],
   "source": [
    "gemini_client = GeminiClient(project=\"your-project\", location=\"your-location\")\n",
    "example_prompt = PromptConfig.from_file_with_sample_values(\"tests/prompts/cooking-designer-image.yml.j2\")\n",
    "\n",
    "print(example_prompt)"
   ]
  },
  {
   "cell_type": "code",
   "execution_count": 8,
   "metadata": {},
   "outputs": [
    {
     "name": "stdout",
     "output_type": "stream",
     "text": [
      "{'difficulty_level': 'easy',\n",
      " 'image_content_description': 'A cutting board with sliced sausage, chopped '\n",
      "                              'onions, garlic, and a bowl of black beans, '\n",
      "                              'representing ingredients for Brazilian sausage '\n",
      "                              'and black bean stew.',\n",
      " 'ingredient_list': [{'amount': 300, 'name': 'sausage', 'unit': 'g'},\n",
      "                     {'amount': 1, 'name': 'onion', 'unit': 'count'},\n",
      "                     {'amount': 1, 'name': 'red onion', 'unit': 'count'},\n",
      "                     {'amount': 2, 'name': 'garlic', 'unit': 'count'},\n",
      "                     {'amount': 1, 'name': 'orange', 'unit': 'count'},\n",
      "                     {'amount': 400, 'name': 'black beans', 'unit': 'g'}],\n",
      " 'preparation_instructions': ['In a large pot over medium heat, add the '\n",
      "                              'sausage and cook until browned on all sides.',\n",
      "                              'Add the chopped onion, red onion, and garlic to '\n",
      "                              'the pot and cook until softened, about 5 '\n",
      "                              'minutes.',\n",
      "                              'Stir in the black beans, orange juice and zest, '\n",
      "                              'and water. Bring to a boil, then reduce heat '\n",
      "                              'and simmer for 30 minutes, or until the beans '\n",
      "                              'are tender.',\n",
      "                              'Season with salt and pepper to taste and serve '\n",
      "                              'hot with rice or farofa. Enjoy!'],\n",
      " 'recipe_name': 'Brazilian Sausage and Black Bean Stew'}\n"
     ]
    }
   ],
   "source": [
    "generate_content = gemini_client.generate_content(example_prompt) \n",
    "pprint.pprint(json.loads(generate_content.text))"
   ]
  },
  {
   "cell_type": "code",
   "execution_count": 9,
   "metadata": {},
   "outputs": [
    {
     "name": "stdout",
     "output_type": "stream",
     "text": [
      "\n",
      "PromptConfig(\n",
      "  name='Cooking Designer',\n",
      "  description='A prompt that helps creating a recipe based in a prompt.',\n",
      "  model_name='gemini-1.5-pro-001',\n",
      "  generation_config={'temperature': 0.3, 'response_mime_type': 'application/json', 'response_schema': {'type': 'object', 'properties': {'image_content_description': {'type': 'string'}, 'recipe_name': {'type': 'string'}, 'difficulty_level': {'type': 'string', 'enum': ['easy', 'moderate', 'professional']}, 'ingredient_list': {'type': 'array', 'items': {'type': 'object', 'properties': {'unit': {'type': 'string', 'enum': ['count', 'cup', 'tablespoon', 'teaspoon', 'kg', 'g', 'mg']}, 'amount': {'type': 'number'}, 'name': {'type': 'string'}}, 'required': ['name']}}, 'preparation_instructions': {'type': 'array', 'items': {'type': 'string'}}}, 'required': ['recipe_name', 'difficulty_level', 'ingredient_list', 'preparation_instructions']}},\n",
      "  safety_settings=[],\n",
      "  system_instruction='You are a professional chef responsible for elaborating recipes for a Brazilian (Minas Gerais) restaurant.\n",
      "Based on the user's prompt, you'll need to create a new cooking recipe in english.',\n",
      "  variables={'cousine': {'sample': 'brazilian'}, 'user_prompt': {'sample': 'Check this image with all the ingredients that I have at home.'}, 'prioritize_weigth': {'default': False}, 'image_uri': {'sample': 'data/images/feijoada-ingredients.jpeg'}},\n",
      "  provided_variables={'prioritize_weigth': True, 'cousine': 'Brazilian (Minas Gerais)', 'user_prompt': 'These are all the ingredients that I have at home, help me drafting something for my dinner.', 'image_uri': 'data/images/feijoada-ingredients.jpeg'},\n",
      ")\n",
      "\n"
     ]
    }
   ],
   "source": [
    "prompt_variables = {\n",
    "    \"cousine\": \"Brazilian (Minas Gerais)\",\n",
    "    \"user_prompt\": \"These are all the ingredients that I have at home, help me drafting something for my dinner.\",\n",
    "    \"image_uri\": \"data/images/feijoada-ingredients.jpeg\",\n",
    "    \"prioritize_weigth\": True,\n",
    "}\n",
    "\n",
    "example_prompt = PromptConfig.from_file(\"tests/prompts/cooking-designer-image.yml.j2\", prompt_variables, verbose=True)"
   ]
  },
  {
   "cell_type": "code",
   "execution_count": 10,
   "metadata": {},
   "outputs": [
    {
     "name": "stdout",
     "output_type": "stream",
     "text": [
      "{'difficulty_level': 'easy',\n",
      " 'image_content_description': 'A delicious and hearty Brazilian sausage and '\n",
      "                              'black bean stew. This recipe is easy to make '\n",
      "                              'and perfect for a weeknight meal.',\n",
      " 'ingredient_list': [{'amount': 300, 'name': 'pork sausage', 'unit': 'g'},\n",
      "                     {'amount': 200, 'name': 'black beans', 'unit': 'g'},\n",
      "                     {'amount': 150, 'name': 'onion', 'unit': 'g'},\n",
      "                     {'amount': 100, 'name': 'red onion', 'unit': 'g'},\n",
      "                     {'amount': 2, 'name': 'garlic', 'unit': 'count'},\n",
      "                     {'amount': 1, 'name': 'orange', 'unit': 'count'}],\n",
      " 'preparation_instructions': ['In a large pot or Dutch oven, brown the sausage '\n",
      "                              'over medium heat. Remove the sausage from the '\n",
      "                              'pot and set aside.',\n",
      "                              'Add the chopped onions to the pot and cook '\n",
      "                              'until softened, about 5 minutes. Add the garlic '\n",
      "                              'and cook for 1 minute more.',\n",
      "                              'Stir in the black beans, water, and orange '\n",
      "                              'juice. Bring to a boil, then reduce heat and '\n",
      "                              'simmer for 1 hour, or until the beans are '\n",
      "                              'tender.',\n",
      "                              'Stir in the cooked sausage and serve hot with '\n",
      "                              'rice. Enjoy!'],\n",
      " 'recipe_name': 'Brazilian Sausage and Black Bean Stew'}\n"
     ]
    }
   ],
   "source": [
    "generate_content = gemini_client.generate_content(example_prompt) \n",
    "pprint.pprint(json.loads(generate_content.text))"
   ]
  }
 ],
 "metadata": {
  "kernelspec": {
   "display_name": ".venv",
   "language": "python",
   "name": "python3"
  },
  "language_info": {
   "codemirror_mode": {
    "name": "ipython",
    "version": 3
   },
   "file_extension": ".py",
   "mimetype": "text/x-python",
   "name": "python",
   "nbconvert_exporter": "python",
   "pygments_lexer": "ipython3",
   "version": "3.11.6"
  }
 },
 "nbformat": 4,
 "nbformat_minor": 2
}
