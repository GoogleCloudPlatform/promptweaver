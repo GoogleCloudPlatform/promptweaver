{
 "cells": [
  {
   "cell_type": "code",
   "execution_count": 1,
   "metadata": {},
   "outputs": [],
   "source": [
    "from promptweaver.core.prompt_template import PromptConfig\n",
    "from promptweaver.clients.gemini.gemini_client import GeminiClient\n",
    "import pprint\n",
    "import json"
   ]
  },
  {
   "cell_type": "code",
   "execution_count": 5,
   "metadata": {},
   "outputs": [
    {
     "name": "stdout",
     "output_type": "stream",
     "text": [
      "\n",
      "PromptConfig(\n",
      "  name='Recipe Generator 2',\n",
      "  description='A prompt that helps creating a cooking recipe based in a prompt with an image.',\n",
      "  model_name='gemini-1.5-pro-001',\n",
      "  generation_config={'temperature': 0.3, 'max_output_tokens': 500, 'response_mime_type': 'application/json', 'response_schema': {'type': 'object', 'properties': {'image_content_description': {'type': 'string'}, 'recipe_name': {'type': 'string'}, 'difficulty_level': {'type': 'string', 'enum': ['easy', 'moderate', 'professional']}, 'ingredient_list': {'type': 'array', 'items': {'type': 'object', 'properties': {'unit': {'type': 'string', 'enum': ['count', 'cup', 'tablespoon', 'teaspoon', 'kg', 'g', 'mg']}, 'amount': {'type': 'number'}, 'name': {'type': 'string'}}, 'required': ['name']}}, 'preparation_instructions': {'type': 'array', 'items': {'type': 'string'}}}, 'required': ['recipe_name', 'difficulty_level', 'ingredient_list', 'preparation_instructions']}},\n",
      "  safety_settings=[],\n",
      "  system_instruction='You are a professional chef responsible for elaborating recipes for a brazilian restaurant.\n",
      "Based on the user's prompt, you'll need to create a new cooking recipe in english.',\n",
      "  variables={'cousine': {'sample': 'brazilian'}, 'user_prompt': {'sample': 'Check this image with all the ingredients that I have at home.'}, 'prioritize_weigth': {'default': False}, 'image_uri': {'sample': 'data/images/feijoada-ingredients.jpeg'}},\n",
      "  provided_variables={'prioritize_weigth': False, 'cousine': 'brazilian', 'user_prompt': 'Check this image with all the ingredients that I have at home.', 'image_uri': 'data/images/feijoada-ingredients.jpeg'},\n",
      ")\n",
      "\n"
     ]
    }
   ],
   "source": [
    "gemini_client = GeminiClient(project=\"PROJECT_NAME\", location=\"PROJECT_LOCATION\")\n",
    "example_prompt = PromptConfig.from_file_with_sample_values(\"samples/05-recipe-generator-image.yml.j2\")\n",
    "\n",
    "print(example_prompt)"
   ]
  },
  {
   "cell_type": "code",
   "execution_count": 6,
   "metadata": {},
   "outputs": [
    {
     "name": "stdout",
     "output_type": "stream",
     "text": [
      "{'difficulty_level': 'easy',\n",
      " 'image_content_description': 'A top-down view of a wooden cutting board with '\n",
      "                              'ingredients for Brazilian beans and sausage, '\n",
      "                              'including diced white onion, sliced smoked '\n",
      "                              'sausage, black beans, minced garlic, orange '\n",
      "                              'slices, and a whole garlic bulb.',\n",
      " 'ingredient_list': [{'amount': 1, 'name': 'Black beans', 'unit': 'cup'},\n",
      "                     {'amount': 1, 'name': 'Smoked sausage', 'unit': 'count'},\n",
      "                     {'amount': 1, 'name': 'White onion', 'unit': 'count'},\n",
      "                     {'amount': 1, 'name': 'Red onion', 'unit': 'count'},\n",
      "                     {'amount': 4, 'name': 'Garlic', 'unit': 'count'},\n",
      "                     {'amount': 1, 'name': 'Orange', 'unit': 'count'}],\n",
      " 'preparation_instructions': ['Dice the onions, mince the garlic, and slice '\n",
      "                              'the sausage.',\n",
      "                              'In a large pot, saute the onions and garlic in '\n",
      "                              'olive oil until softened.',\n",
      "                              'Add the black beans, sausage, and orange juice '\n",
      "                              'to the pot.',\n",
      "                              'Season with salt, pepper, and any other desired '\n",
      "                              'spices.',\n",
      "                              'Bring the mixture to a boil, then reduce heat '\n",
      "                              'and simmer for 30 minutes, or until the flavors '\n",
      "                              'have melded.',\n",
      "                              'Serve hot with rice or your preferred side '\n",
      "                              'dish. Enjoy!'],\n",
      " 'recipe_name': 'Brazilian Beans and Sausage'}\n"
     ]
    }
   ],
   "source": [
    "generate_content = gemini_client.generate_content(example_prompt) \n",
    "pprint.pprint(json.loads(generate_content.text))"
   ]
  },
  {
   "cell_type": "code",
   "execution_count": 7,
   "metadata": {},
   "outputs": [
    {
     "name": "stdout",
     "output_type": "stream",
     "text": [
      "\n",
      "PromptConfig(\n",
      "  name='Recipe Generator 2',\n",
      "  description='A prompt that helps creating a cooking recipe based in a prompt with an image.',\n",
      "  model_name='gemini-1.5-pro-001',\n",
      "  generation_config={'temperature': 0.3, 'max_output_tokens': 500, 'response_mime_type': 'application/json', 'response_schema': {'type': 'object', 'properties': {'image_content_description': {'type': 'string'}, 'recipe_name': {'type': 'string'}, 'difficulty_level': {'type': 'string', 'enum': ['easy', 'moderate', 'professional']}, 'ingredient_list': {'type': 'array', 'items': {'type': 'object', 'properties': {'unit': {'type': 'string', 'enum': ['count', 'cup', 'tablespoon', 'teaspoon', 'kg', 'g', 'mg']}, 'amount': {'type': 'number'}, 'name': {'type': 'string'}}, 'required': ['name']}}, 'preparation_instructions': {'type': 'array', 'items': {'type': 'string'}}}, 'required': ['recipe_name', 'difficulty_level', 'ingredient_list', 'preparation_instructions']}},\n",
      "  safety_settings=[],\n",
      "  system_instruction='You are a professional chef responsible for elaborating recipes for a Brazilian (Minas Gerais) restaurant.\n",
      "Based on the user's prompt, you'll need to create a new cooking recipe in english.',\n",
      "  variables={'cousine': {'sample': 'brazilian'}, 'user_prompt': {'sample': 'Check this image with all the ingredients that I have at home.'}, 'prioritize_weigth': {'default': False}, 'image_uri': {'sample': 'data/images/feijoada-ingredients.jpeg'}},\n",
      "  provided_variables={'prioritize_weigth': True, 'cousine': 'Brazilian (Minas Gerais)', 'user_prompt': 'These are all the ingredients that I have at home, help me drafting something for my dinner.', 'image_uri': 'data/images/feijoada-ingredients.jpeg'},\n",
      ")\n",
      "\n"
     ]
    }
   ],
   "source": [
    "prompt_variables = {\n",
    "    \"cousine\": \"Brazilian (Minas Gerais)\",\n",
    "    \"user_prompt\": \"These are all the ingredients that I have at home, help me drafting something for my dinner.\",\n",
    "    \"image_uri\": \"data/images/feijoada-ingredients.jpeg\",\n",
    "    \"prioritize_weigth\": True,\n",
    "}\n",
    "\n",
    "example_prompt = PromptConfig.from_file(\"samples/05-recipe-generator-image.yml.j2\", prompt_variables, verbose=True)"
   ]
  },
  {
   "cell_type": "code",
   "execution_count": 9,
   "metadata": {},
   "outputs": [
    {
     "name": "stdout",
     "output_type": "stream",
     "text": [
      "{'difficulty_level': 'easy',\n",
      " 'image_content_description': 'A delicious and hearty Brazilian sausage and '\n",
      "                              'black bean stew.',\n",
      " 'ingredient_list': [{'amount': 300, 'name': 'Calabrian sausage', 'unit': 'g'},\n",
      "                     {'amount': 200, 'name': 'cooked black beans', 'unit': 'g'},\n",
      "                     {'amount': 150, 'name': 'white onion', 'unit': 'g'},\n",
      "                     {'amount': 50, 'name': 'red onion', 'unit': 'g'},\n",
      "                     {'amount': 2, 'name': 'garlic', 'unit': 'count'},\n",
      "                     {'amount': 1, 'name': 'orange', 'unit': 'count'}],\n",
      " 'preparation_instructions': ['In a large pot or Dutch oven, brown the sausage '\n",
      "                              'over medium heat. Remove the sausage from the '\n",
      "                              'pot and set aside.',\n",
      "                              'Add the chopped onions to the pot and cook '\n",
      "                              'until softened, about 5 minutes. Add the garlic '\n",
      "                              'and cook for 1 minute more.',\n",
      "                              'Return the sausage to the pot. Add the black '\n",
      "                              'beans, orange juice and zest. Season with salt '\n",
      "                              'and pepper to taste.',\n",
      "                              'Bring the mixture to a boil, then reduce heat '\n",
      "                              'and simmer for 15 minutes, or until the flavors '\n",
      "                              'have melded.',\n",
      "                              'Serve hot with rice or your favorite Brazilian '\n",
      "                              'sides. Enjoy!'],\n",
      " 'recipe_name': 'Brazilian Sausage and Black Bean Stew'}\n"
     ]
    }
   ],
   "source": [
    "generate_content = gemini_client.generate_content(example_prompt) \n",
    "pprint.pprint(json.loads(generate_content.text))"
   ]
  }
 ],
 "metadata": {
  "kernelspec": {
   "display_name": ".venv",
   "language": "python",
   "name": "python3"
  },
  "language_info": {
   "codemirror_mode": {
    "name": "ipython",
    "version": 3
   },
   "file_extension": ".py",
   "mimetype": "text/x-python",
   "name": "python",
   "nbconvert_exporter": "python",
   "pygments_lexer": "ipython3",
   "version": "3.11.6"
  }
 },
 "nbformat": 4,
 "nbformat_minor": 2
}
